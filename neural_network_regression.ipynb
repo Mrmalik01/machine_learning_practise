{
  "nbformat": 4,
  "nbformat_minor": 0,
  "metadata": {
    "colab": {
      "name": "neural_network_regression.ipynb",
      "provenance": [],
      "collapsed_sections": [],
      "toc_visible": true
    },
    "kernelspec": {
      "name": "python3",
      "display_name": "Python 3"
    }
  },
  "cells": [
    {
      "cell_type": "code",
      "metadata": {
        "id": "GuZ4n7nCso32",
        "colab_type": "code",
        "colab": {}
      },
      "source": [
        "import pandas as pd\n",
        "import numpy as np"
      ],
      "execution_count": 0,
      "outputs": []
    },
    {
      "cell_type": "code",
      "metadata": {
        "id": "FSevf8z3s0DV",
        "colab_type": "code",
        "colab": {
          "base_uri": "https://localhost:8080/",
          "height": 215
        },
        "outputId": "6f53370b-6328-4549-df55-773d409192b4"
      },
      "source": [
        "df = pd.read_csv(\"concrete_data.csv\")\n",
        "df.head()"
      ],
      "execution_count": 9,
      "outputs": [
        {
          "output_type": "execute_result",
          "data": {
            "text/html": [
              "<div>\n",
              "<style scoped>\n",
              "    .dataframe tbody tr th:only-of-type {\n",
              "        vertical-align: middle;\n",
              "    }\n",
              "\n",
              "    .dataframe tbody tr th {\n",
              "        vertical-align: top;\n",
              "    }\n",
              "\n",
              "    .dataframe thead th {\n",
              "        text-align: right;\n",
              "    }\n",
              "</style>\n",
              "<table border=\"1\" class=\"dataframe\">\n",
              "  <thead>\n",
              "    <tr style=\"text-align: right;\">\n",
              "      <th></th>\n",
              "      <th>Cement</th>\n",
              "      <th>Blast Furnace Slag</th>\n",
              "      <th>Fly Ash</th>\n",
              "      <th>Water</th>\n",
              "      <th>Superplasticizer</th>\n",
              "      <th>Coarse Aggregate</th>\n",
              "      <th>Fine Aggregate</th>\n",
              "      <th>Age</th>\n",
              "      <th>Strength</th>\n",
              "    </tr>\n",
              "  </thead>\n",
              "  <tbody>\n",
              "    <tr>\n",
              "      <th>0</th>\n",
              "      <td>540.0</td>\n",
              "      <td>0.0</td>\n",
              "      <td>0.0</td>\n",
              "      <td>162.0</td>\n",
              "      <td>2.5</td>\n",
              "      <td>1040.0</td>\n",
              "      <td>676.0</td>\n",
              "      <td>28</td>\n",
              "      <td>79.99</td>\n",
              "    </tr>\n",
              "    <tr>\n",
              "      <th>1</th>\n",
              "      <td>540.0</td>\n",
              "      <td>0.0</td>\n",
              "      <td>0.0</td>\n",
              "      <td>162.0</td>\n",
              "      <td>2.5</td>\n",
              "      <td>1055.0</td>\n",
              "      <td>676.0</td>\n",
              "      <td>28</td>\n",
              "      <td>61.89</td>\n",
              "    </tr>\n",
              "    <tr>\n",
              "      <th>2</th>\n",
              "      <td>332.5</td>\n",
              "      <td>142.5</td>\n",
              "      <td>0.0</td>\n",
              "      <td>228.0</td>\n",
              "      <td>0.0</td>\n",
              "      <td>932.0</td>\n",
              "      <td>594.0</td>\n",
              "      <td>270</td>\n",
              "      <td>40.27</td>\n",
              "    </tr>\n",
              "    <tr>\n",
              "      <th>3</th>\n",
              "      <td>332.5</td>\n",
              "      <td>142.5</td>\n",
              "      <td>0.0</td>\n",
              "      <td>228.0</td>\n",
              "      <td>0.0</td>\n",
              "      <td>932.0</td>\n",
              "      <td>594.0</td>\n",
              "      <td>365</td>\n",
              "      <td>41.05</td>\n",
              "    </tr>\n",
              "    <tr>\n",
              "      <th>4</th>\n",
              "      <td>198.6</td>\n",
              "      <td>132.4</td>\n",
              "      <td>0.0</td>\n",
              "      <td>192.0</td>\n",
              "      <td>0.0</td>\n",
              "      <td>978.4</td>\n",
              "      <td>825.5</td>\n",
              "      <td>360</td>\n",
              "      <td>44.30</td>\n",
              "    </tr>\n",
              "  </tbody>\n",
              "</table>\n",
              "</div>"
            ],
            "text/plain": [
              "   Cement  Blast Furnace Slag  Fly Ash  ...  Fine Aggregate  Age  Strength\n",
              "0   540.0                 0.0      0.0  ...           676.0   28     79.99\n",
              "1   540.0                 0.0      0.0  ...           676.0   28     61.89\n",
              "2   332.5               142.5      0.0  ...           594.0  270     40.27\n",
              "3   332.5               142.5      0.0  ...           594.0  365     41.05\n",
              "4   198.6               132.4      0.0  ...           825.5  360     44.30\n",
              "\n",
              "[5 rows x 9 columns]"
            ]
          },
          "metadata": {
            "tags": []
          },
          "execution_count": 9
        }
      ]
    },
    {
      "cell_type": "code",
      "metadata": {
        "id": "EVvFoURiswl0",
        "colab_type": "code",
        "colab": {
          "base_uri": "https://localhost:8080/",
          "height": 259
        },
        "outputId": "b3445e17-2e7f-4422-f715-905d858cf195"
      },
      "source": [
        "df.info()"
      ],
      "execution_count": 10,
      "outputs": [
        {
          "output_type": "stream",
          "text": [
            "<class 'pandas.core.frame.DataFrame'>\n",
            "RangeIndex: 1030 entries, 0 to 1029\n",
            "Data columns (total 9 columns):\n",
            "Cement                1030 non-null float64\n",
            "Blast Furnace Slag    1030 non-null float64\n",
            "Fly Ash               1030 non-null float64\n",
            "Water                 1030 non-null float64\n",
            "Superplasticizer      1030 non-null float64\n",
            "Coarse Aggregate      1030 non-null float64\n",
            "Fine Aggregate        1030 non-null float64\n",
            "Age                   1030 non-null int64\n",
            "Strength              1030 non-null float64\n",
            "dtypes: float64(8), int64(1)\n",
            "memory usage: 72.5 KB\n"
          ],
          "name": "stdout"
        }
      ]
    },
    {
      "cell_type": "code",
      "metadata": {
        "id": "3KaPEVtcswqr",
        "colab_type": "code",
        "colab": {}
      },
      "source": [
        "sorted = df.sort_values('Strength', ascending=False)\n",
        "low = sorted.tail()\n",
        "high = sorted.head()"
      ],
      "execution_count": 0,
      "outputs": []
    },
    {
      "cell_type": "code",
      "metadata": {
        "id": "HvcJL_I5swwM",
        "colab_type": "code",
        "colab": {
          "base_uri": "https://localhost:8080/",
          "height": 305
        },
        "outputId": "42364750-728e-4eb8-cf53-5905941f96ff"
      },
      "source": [
        "low.describe()"
      ],
      "execution_count": 18,
      "outputs": [
        {
          "output_type": "execute_result",
          "data": {
            "text/html": [
              "<div>\n",
              "<style scoped>\n",
              "    .dataframe tbody tr th:only-of-type {\n",
              "        vertical-align: middle;\n",
              "    }\n",
              "\n",
              "    .dataframe tbody tr th {\n",
              "        vertical-align: top;\n",
              "    }\n",
              "\n",
              "    .dataframe thead th {\n",
              "        text-align: right;\n",
              "    }\n",
              "</style>\n",
              "<table border=\"1\" class=\"dataframe\">\n",
              "  <thead>\n",
              "    <tr style=\"text-align: right;\">\n",
              "      <th></th>\n",
              "      <th>Cement</th>\n",
              "      <th>Blast Furnace Slag</th>\n",
              "      <th>Fly Ash</th>\n",
              "      <th>Water</th>\n",
              "      <th>Superplasticizer</th>\n",
              "      <th>Coarse Aggregate</th>\n",
              "      <th>Fine Aggregate</th>\n",
              "      <th>Age</th>\n",
              "      <th>Strength</th>\n",
              "    </tr>\n",
              "  </thead>\n",
              "  <tbody>\n",
              "    <tr>\n",
              "      <th>count</th>\n",
              "      <td>5.000000</td>\n",
              "      <td>5.000000</td>\n",
              "      <td>5.0</td>\n",
              "      <td>5.000000</td>\n",
              "      <td>5.0</td>\n",
              "      <td>5.00000</td>\n",
              "      <td>5.000000</td>\n",
              "      <td>5.0</td>\n",
              "      <td>5.000000</td>\n",
              "    </tr>\n",
              "    <tr>\n",
              "      <th>mean</th>\n",
              "      <td>125.440000</td>\n",
              "      <td>162.660000</td>\n",
              "      <td>0.0</td>\n",
              "      <td>198.900000</td>\n",
              "      <td>0.0</td>\n",
              "      <td>928.64000</td>\n",
              "      <td>856.540000</td>\n",
              "      <td>3.0</td>\n",
              "      <td>3.966000</td>\n",
              "    </tr>\n",
              "    <tr>\n",
              "      <th>std</th>\n",
              "      <td>21.577604</td>\n",
              "      <td>40.800098</td>\n",
              "      <td>0.0</td>\n",
              "      <td>6.298809</td>\n",
              "      <td>0.0</td>\n",
              "      <td>39.41279</td>\n",
              "      <td>86.184413</td>\n",
              "      <td>0.0</td>\n",
              "      <td>1.103146</td>\n",
              "    </tr>\n",
              "    <tr>\n",
              "      <th>min</th>\n",
              "      <td>102.000000</td>\n",
              "      <td>102.000000</td>\n",
              "      <td>0.0</td>\n",
              "      <td>192.000000</td>\n",
              "      <td>0.0</td>\n",
              "      <td>887.00000</td>\n",
              "      <td>748.500000</td>\n",
              "      <td>3.0</td>\n",
              "      <td>2.330000</td>\n",
              "    </tr>\n",
              "    <tr>\n",
              "      <th>25%</th>\n",
              "      <td>108.300000</td>\n",
              "      <td>153.000000</td>\n",
              "      <td>0.0</td>\n",
              "      <td>192.000000</td>\n",
              "      <td>0.0</td>\n",
              "      <td>888.00000</td>\n",
              "      <td>800.100000</td>\n",
              "      <td>3.0</td>\n",
              "      <td>3.320000</td>\n",
              "    </tr>\n",
              "    <tr>\n",
              "      <th>50%</th>\n",
              "      <td>122.600000</td>\n",
              "      <td>162.400000</td>\n",
              "      <td>0.0</td>\n",
              "      <td>203.500000</td>\n",
              "      <td>0.0</td>\n",
              "      <td>938.20000</td>\n",
              "      <td>849.000000</td>\n",
              "      <td>3.0</td>\n",
              "      <td>4.570000</td>\n",
              "    </tr>\n",
              "    <tr>\n",
              "      <th>75%</th>\n",
              "      <td>141.300000</td>\n",
              "      <td>183.900000</td>\n",
              "      <td>0.0</td>\n",
              "      <td>203.500000</td>\n",
              "      <td>0.0</td>\n",
              "      <td>958.20000</td>\n",
              "      <td>942.000000</td>\n",
              "      <td>3.0</td>\n",
              "      <td>4.780000</td>\n",
              "    </tr>\n",
              "    <tr>\n",
              "      <th>max</th>\n",
              "      <td>153.000000</td>\n",
              "      <td>212.000000</td>\n",
              "      <td>0.0</td>\n",
              "      <td>203.500000</td>\n",
              "      <td>0.0</td>\n",
              "      <td>971.80000</td>\n",
              "      <td>943.100000</td>\n",
              "      <td>3.0</td>\n",
              "      <td>4.830000</td>\n",
              "    </tr>\n",
              "  </tbody>\n",
              "</table>\n",
              "</div>"
            ],
            "text/plain": [
              "           Cement  Blast Furnace Slag  Fly Ash  ...  Fine Aggregate  Age  Strength\n",
              "count    5.000000            5.000000      5.0  ...        5.000000  5.0  5.000000\n",
              "mean   125.440000          162.660000      0.0  ...      856.540000  3.0  3.966000\n",
              "std     21.577604           40.800098      0.0  ...       86.184413  0.0  1.103146\n",
              "min    102.000000          102.000000      0.0  ...      748.500000  3.0  2.330000\n",
              "25%    108.300000          153.000000      0.0  ...      800.100000  3.0  3.320000\n",
              "50%    122.600000          162.400000      0.0  ...      849.000000  3.0  4.570000\n",
              "75%    141.300000          183.900000      0.0  ...      942.000000  3.0  4.780000\n",
              "max    153.000000          212.000000      0.0  ...      943.100000  3.0  4.830000\n",
              "\n",
              "[8 rows x 9 columns]"
            ]
          },
          "metadata": {
            "tags": []
          },
          "execution_count": 18
        }
      ]
    },
    {
      "cell_type": "code",
      "metadata": {
        "id": "g1NhWagMsw9t",
        "colab_type": "code",
        "colab": {
          "base_uri": "https://localhost:8080/",
          "height": 323
        },
        "outputId": "6a389234-7cb6-4dcb-b69f-b807ae64cb53"
      },
      "source": [
        "high.describe()"
      ],
      "execution_count": 19,
      "outputs": [
        {
          "output_type": "execute_result",
          "data": {
            "text/html": [
              "<div>\n",
              "<style scoped>\n",
              "    .dataframe tbody tr th:only-of-type {\n",
              "        vertical-align: middle;\n",
              "    }\n",
              "\n",
              "    .dataframe tbody tr th {\n",
              "        vertical-align: top;\n",
              "    }\n",
              "\n",
              "    .dataframe thead th {\n",
              "        text-align: right;\n",
              "    }\n",
              "</style>\n",
              "<table border=\"1\" class=\"dataframe\">\n",
              "  <thead>\n",
              "    <tr style=\"text-align: right;\">\n",
              "      <th></th>\n",
              "      <th>Cement</th>\n",
              "      <th>Blast Furnace Slag</th>\n",
              "      <th>Fly Ash</th>\n",
              "      <th>Water</th>\n",
              "      <th>Superplasticizer</th>\n",
              "      <th>Coarse Aggregate</th>\n",
              "      <th>Fine Aggregate</th>\n",
              "      <th>Age</th>\n",
              "      <th>Strength</th>\n",
              "    </tr>\n",
              "  </thead>\n",
              "  <tbody>\n",
              "    <tr>\n",
              "      <th>count</th>\n",
              "      <td>5.000000</td>\n",
              "      <td>5.000000</td>\n",
              "      <td>5.0</td>\n",
              "      <td>5.000000</td>\n",
              "      <td>5.00000</td>\n",
              "      <td>5.000000</td>\n",
              "      <td>5.000000</td>\n",
              "      <td>5.000000</td>\n",
              "      <td>5.000000</td>\n",
              "    </tr>\n",
              "    <tr>\n",
              "      <th>mean</th>\n",
              "      <td>391.700000</td>\n",
              "      <td>159.560000</td>\n",
              "      <td>0.0</td>\n",
              "      <td>156.520000</td>\n",
              "      <td>12.54000</td>\n",
              "      <td>1000.420000</td>\n",
              "      <td>718.500000</td>\n",
              "      <td>51.800000</td>\n",
              "      <td>80.788000</td>\n",
              "    </tr>\n",
              "    <tr>\n",
              "      <th>std</th>\n",
              "      <td>90.147463</td>\n",
              "      <td>103.549351</td>\n",
              "      <td>0.0</td>\n",
              "      <td>16.826378</td>\n",
              "      <td>9.06769</td>\n",
              "      <td>83.514352</td>\n",
              "      <td>46.703961</td>\n",
              "      <td>26.003846</td>\n",
              "      <td>1.333968</td>\n",
              "    </tr>\n",
              "    <tr>\n",
              "      <th>min</th>\n",
              "      <td>315.000000</td>\n",
              "      <td>0.000000</td>\n",
              "      <td>0.0</td>\n",
              "      <td>145.000000</td>\n",
              "      <td>2.50000</td>\n",
              "      <td>942.700000</td>\n",
              "      <td>659.900000</td>\n",
              "      <td>28.000000</td>\n",
              "      <td>79.400000</td>\n",
              "    </tr>\n",
              "    <tr>\n",
              "      <th>25%</th>\n",
              "      <td>323.700000</td>\n",
              "      <td>137.000000</td>\n",
              "      <td>0.0</td>\n",
              "      <td>145.900000</td>\n",
              "      <td>5.90000</td>\n",
              "      <td>944.700000</td>\n",
              "      <td>676.000000</td>\n",
              "      <td>28.000000</td>\n",
              "      <td>79.990000</td>\n",
              "    </tr>\n",
              "    <tr>\n",
              "      <th>50%</th>\n",
              "      <td>389.900000</td>\n",
              "      <td>189.000000</td>\n",
              "      <td>0.0</td>\n",
              "      <td>145.900000</td>\n",
              "      <td>10.30000</td>\n",
              "      <td>944.700000</td>\n",
              "      <td>745.000000</td>\n",
              "      <td>56.000000</td>\n",
              "      <td>80.200000</td>\n",
              "    </tr>\n",
              "    <tr>\n",
              "      <th>75%</th>\n",
              "      <td>389.900000</td>\n",
              "      <td>189.000000</td>\n",
              "      <td>0.0</td>\n",
              "      <td>162.000000</td>\n",
              "      <td>22.00000</td>\n",
              "      <td>1040.000000</td>\n",
              "      <td>755.800000</td>\n",
              "      <td>56.000000</td>\n",
              "      <td>81.750000</td>\n",
              "    </tr>\n",
              "    <tr>\n",
              "      <th>max</th>\n",
              "      <td>540.000000</td>\n",
              "      <td>282.800000</td>\n",
              "      <td>0.0</td>\n",
              "      <td>183.800000</td>\n",
              "      <td>22.00000</td>\n",
              "      <td>1130.000000</td>\n",
              "      <td>755.800000</td>\n",
              "      <td>91.000000</td>\n",
              "      <td>82.600000</td>\n",
              "    </tr>\n",
              "  </tbody>\n",
              "</table>\n",
              "</div>"
            ],
            "text/plain": [
              "           Cement  Blast Furnace Slag  ...        Age   Strength\n",
              "count    5.000000            5.000000  ...   5.000000   5.000000\n",
              "mean   391.700000          159.560000  ...  51.800000  80.788000\n",
              "std     90.147463          103.549351  ...  26.003846   1.333968\n",
              "min    315.000000            0.000000  ...  28.000000  79.400000\n",
              "25%    323.700000          137.000000  ...  28.000000  79.990000\n",
              "50%    389.900000          189.000000  ...  56.000000  80.200000\n",
              "75%    389.900000          189.000000  ...  56.000000  81.750000\n",
              "max    540.000000          282.800000  ...  91.000000  82.600000\n",
              "\n",
              "[8 rows x 9 columns]"
            ]
          },
          "metadata": {
            "tags": []
          },
          "execution_count": 19
        }
      ]
    },
    {
      "cell_type": "code",
      "metadata": {
        "id": "_l4KQeXpsxHK",
        "colab_type": "code",
        "colab": {
          "base_uri": "https://localhost:8080/",
          "height": 121
        },
        "outputId": "df0fd1ee-bd32-4c5b-85de-8c389e2a7a49"
      },
      "source": [
        "from sklearn.model_selection import train_test_split\n",
        "\n",
        "features = df.drop(\"Strength\", axis=1)\n",
        "features['Age'] = features['Age'].astype(\"float64\")\n",
        "target = df['Strength']\n",
        "print(features['Age'].head())\n",
        "train_x, test_x, train_y, test_y = train_test_split(features, target, test_size=0.2, random_state=43)"
      ],
      "execution_count": 48,
      "outputs": [
        {
          "output_type": "stream",
          "text": [
            "0     28.0\n",
            "1     28.0\n",
            "2    270.0\n",
            "3    365.0\n",
            "4    360.0\n",
            "Name: Age, dtype: float64\n"
          ],
          "name": "stdout"
        }
      ]
    },
    {
      "cell_type": "code",
      "metadata": {
        "id": "yLuY-VphyaZ-",
        "colab_type": "code",
        "colab": {
          "base_uri": "https://localhost:8080/",
          "height": 165
        },
        "outputId": "ab43d0d1-9930-450c-f59f-04abae85c78c"
      },
      "source": [
        ""
      ],
      "execution_count": 46,
      "outputs": [
        {
          "output_type": "error",
          "ename": "AttributeError",
          "evalue": "ignored",
          "traceback": [
            "\u001b[0;31m---------------------------------------------------------------------------\u001b[0m",
            "\u001b[0;31mAttributeError\u001b[0m                            Traceback (most recent call last)",
            "\u001b[0;32m<ipython-input-46-d3e6367f5fb0>\u001b[0m in \u001b[0;36m<module>\u001b[0;34m()\u001b[0m\n\u001b[0;32m----> 1\u001b[0;31m \u001b[0mtrain_x\u001b[0m\u001b[0;34m.\u001b[0m\u001b[0mhead\u001b[0m\u001b[0;34m(\u001b[0m\u001b[0;34m)\u001b[0m\u001b[0;34m\u001b[0m\u001b[0;34m\u001b[0m\u001b[0m\n\u001b[0m",
            "\u001b[0;31mAttributeError\u001b[0m: 'numpy.ndarray' object has no attribute 'head'"
          ]
        }
      ]
    },
    {
      "cell_type": "code",
      "metadata": {
        "id": "iqUPWdNKsxP2",
        "colab_type": "code",
        "colab": {}
      },
      "source": [
        "import keras\n",
        "from keras.models import Sequential\n",
        "from keras.layers import Dense"
      ],
      "execution_count": 0,
      "outputs": []
    },
    {
      "cell_type": "code",
      "metadata": {
        "id": "17DtTpM3sxKV",
        "colab_type": "code",
        "colab": {}
      },
      "source": [
        "def regressionModel(n_cols):\n",
        "  model = Sequential()\n",
        "  model.add(Dense(50, activation=\"relu\", input_shape=(n_cols,)))\n",
        "  model.add(Dense(50, activation=\"relu\"))\n",
        "  model.add(Dense(1))\n",
        "\n",
        "  model.compile(optimizer=\"adam\", loss=\"mean_squared_error\")\n",
        "  return model"
      ],
      "execution_count": 0,
      "outputs": []
    },
    {
      "cell_type": "code",
      "metadata": {
        "id": "-y6MRbJWsxGT",
        "colab_type": "code",
        "colab": {
          "base_uri": "https://localhost:8080/",
          "height": 1000
        },
        "outputId": "ab7e1ede-53f6-4bbc-ec43-b0177962f8cf"
      },
      "source": [
        "neural_network = regressionModel(train_x.shape[1])\n",
        "neural_network.fit(train_x, train_y, validation_split=0.2, verbose=2, epochs=100)"
      ],
      "execution_count": 86,
      "outputs": [
        {
          "output_type": "stream",
          "text": [
            "Train on 659 samples, validate on 165 samples\n",
            "Epoch 1/100\n",
            " - 0s - loss: 1927.5400 - val_loss: 836.2590\n",
            "Epoch 2/100\n",
            " - 0s - loss: 483.9171 - val_loss: 357.2844\n",
            "Epoch 3/100\n",
            " - 0s - loss: 280.0220 - val_loss: 225.8058\n",
            "Epoch 4/100\n",
            " - 0s - loss: 224.4457 - val_loss: 203.5755\n",
            "Epoch 5/100\n",
            " - 0s - loss: 190.3517 - val_loss: 197.7541\n",
            "Epoch 6/100\n",
            " - 0s - loss: 172.0740 - val_loss: 172.4720\n",
            "Epoch 7/100\n",
            " - 0s - loss: 155.2369 - val_loss: 157.9990\n",
            "Epoch 8/100\n",
            " - 0s - loss: 140.2176 - val_loss: 146.2896\n",
            "Epoch 9/100\n",
            " - 0s - loss: 132.1338 - val_loss: 138.7023\n",
            "Epoch 10/100\n",
            " - 0s - loss: 124.0075 - val_loss: 139.9797\n",
            "Epoch 11/100\n",
            " - 0s - loss: 115.8505 - val_loss: 122.5048\n",
            "Epoch 12/100\n",
            " - 0s - loss: 113.5328 - val_loss: 123.7045\n",
            "Epoch 13/100\n",
            " - 0s - loss: 112.5830 - val_loss: 115.4612\n",
            "Epoch 14/100\n",
            " - 0s - loss: 102.7998 - val_loss: 109.4342\n",
            "Epoch 15/100\n",
            " - 0s - loss: 94.0903 - val_loss: 115.9466\n",
            "Epoch 16/100\n",
            " - 0s - loss: 89.0854 - val_loss: 103.9668\n",
            "Epoch 17/100\n",
            " - 0s - loss: 83.7758 - val_loss: 98.2664\n",
            "Epoch 18/100\n",
            " - 0s - loss: 80.4818 - val_loss: 98.0023\n",
            "Epoch 19/100\n",
            " - 0s - loss: 81.0936 - val_loss: 98.7378\n",
            "Epoch 20/100\n",
            " - 0s - loss: 77.0528 - val_loss: 95.6383\n",
            "Epoch 21/100\n",
            " - 0s - loss: 74.5201 - val_loss: 94.0464\n",
            "Epoch 22/100\n",
            " - 0s - loss: 75.2620 - val_loss: 107.1801\n",
            "Epoch 23/100\n",
            " - 0s - loss: 78.1344 - val_loss: 82.9832\n",
            "Epoch 24/100\n",
            " - 0s - loss: 69.4769 - val_loss: 82.3565\n",
            "Epoch 25/100\n",
            " - 0s - loss: 68.3252 - val_loss: 84.0788\n",
            "Epoch 26/100\n",
            " - 0s - loss: 65.8257 - val_loss: 104.9405\n",
            "Epoch 27/100\n",
            " - 0s - loss: 74.4103 - val_loss: 89.0079\n",
            "Epoch 28/100\n",
            " - 0s - loss: 71.9610 - val_loss: 80.7595\n",
            "Epoch 29/100\n",
            " - 0s - loss: 78.6065 - val_loss: 81.4022\n",
            "Epoch 30/100\n",
            " - 0s - loss: 82.1026 - val_loss: 111.6703\n",
            "Epoch 31/100\n",
            " - 0s - loss: 68.1471 - val_loss: 75.5011\n",
            "Epoch 32/100\n",
            " - 0s - loss: 61.8338 - val_loss: 74.2771\n",
            "Epoch 33/100\n",
            " - 0s - loss: 63.9157 - val_loss: 74.3824\n",
            "Epoch 34/100\n",
            " - 0s - loss: 60.7063 - val_loss: 71.6453\n",
            "Epoch 35/100\n",
            " - 0s - loss: 64.7637 - val_loss: 78.1079\n",
            "Epoch 36/100\n",
            " - 0s - loss: 55.3288 - val_loss: 81.4599\n",
            "Epoch 37/100\n",
            " - 0s - loss: 62.9053 - val_loss: 69.5418\n",
            "Epoch 38/100\n",
            " - 0s - loss: 62.0936 - val_loss: 66.5141\n",
            "Epoch 39/100\n",
            " - 0s - loss: 59.4969 - val_loss: 67.8286\n",
            "Epoch 40/100\n",
            " - 0s - loss: 61.1293 - val_loss: 66.6870\n",
            "Epoch 41/100\n",
            " - 0s - loss: 55.8300 - val_loss: 78.3787\n",
            "Epoch 42/100\n",
            " - 0s - loss: 53.5667 - val_loss: 64.2518\n",
            "Epoch 43/100\n",
            " - 0s - loss: 53.0131 - val_loss: 64.1117\n",
            "Epoch 44/100\n",
            " - 0s - loss: 54.9281 - val_loss: 88.0600\n",
            "Epoch 45/100\n",
            " - 0s - loss: 52.1425 - val_loss: 62.3301\n",
            "Epoch 46/100\n",
            " - 0s - loss: 50.1097 - val_loss: 60.0691\n",
            "Epoch 47/100\n",
            " - 0s - loss: 49.8105 - val_loss: 70.7658\n",
            "Epoch 48/100\n",
            " - 0s - loss: 68.9745 - val_loss: 97.0591\n",
            "Epoch 49/100\n",
            " - 0s - loss: 65.6430 - val_loss: 63.0887\n",
            "Epoch 50/100\n",
            " - 0s - loss: 53.3876 - val_loss: 58.8142\n",
            "Epoch 51/100\n",
            " - 0s - loss: 55.5039 - val_loss: 68.1078\n",
            "Epoch 52/100\n",
            " - 0s - loss: 62.1187 - val_loss: 81.9031\n",
            "Epoch 53/100\n",
            " - 0s - loss: 57.5504 - val_loss: 59.9176\n",
            "Epoch 54/100\n",
            " - 0s - loss: 48.3235 - val_loss: 62.1345\n",
            "Epoch 55/100\n",
            " - 0s - loss: 53.1005 - val_loss: 61.4312\n",
            "Epoch 56/100\n",
            " - 0s - loss: 47.5493 - val_loss: 58.0033\n",
            "Epoch 57/100\n",
            " - 0s - loss: 49.7847 - val_loss: 60.1115\n",
            "Epoch 58/100\n",
            " - 0s - loss: 52.0507 - val_loss: 89.2869\n",
            "Epoch 59/100\n",
            " - 0s - loss: 51.3491 - val_loss: 74.4252\n",
            "Epoch 60/100\n",
            " - 0s - loss: 61.9390 - val_loss: 59.7536\n",
            "Epoch 61/100\n",
            " - 0s - loss: 47.0084 - val_loss: 57.6153\n",
            "Epoch 62/100\n",
            " - 0s - loss: 44.6014 - val_loss: 60.4190\n",
            "Epoch 63/100\n",
            " - 0s - loss: 44.2940 - val_loss: 58.8949\n",
            "Epoch 64/100\n",
            " - 0s - loss: 45.3051 - val_loss: 57.8723\n",
            "Epoch 65/100\n",
            " - 0s - loss: 44.1688 - val_loss: 58.6160\n",
            "Epoch 66/100\n",
            " - 0s - loss: 44.9511 - val_loss: 64.2647\n",
            "Epoch 67/100\n",
            " - 0s - loss: 48.9119 - val_loss: 67.9454\n",
            "Epoch 68/100\n",
            " - 0s - loss: 49.4541 - val_loss: 79.8270\n",
            "Epoch 69/100\n",
            " - 0s - loss: 48.8305 - val_loss: 95.0916\n",
            "Epoch 70/100\n",
            " - 0s - loss: 51.2010 - val_loss: 54.9811\n",
            "Epoch 71/100\n",
            " - 0s - loss: 45.3932 - val_loss: 64.3587\n",
            "Epoch 72/100\n",
            " - 0s - loss: 47.5139 - val_loss: 71.5439\n",
            "Epoch 73/100\n",
            " - 0s - loss: 51.8643 - val_loss: 99.3570\n",
            "Epoch 74/100\n",
            " - 0s - loss: 54.3516 - val_loss: 74.4290\n",
            "Epoch 75/100\n",
            " - 0s - loss: 46.8350 - val_loss: 56.6752\n",
            "Epoch 76/100\n",
            " - 0s - loss: 43.5645 - val_loss: 60.8761\n",
            "Epoch 77/100\n",
            " - 0s - loss: 46.3139 - val_loss: 54.8524\n",
            "Epoch 78/100\n",
            " - 0s - loss: 43.5977 - val_loss: 57.9663\n",
            "Epoch 79/100\n",
            " - 0s - loss: 46.1019 - val_loss: 53.3573\n",
            "Epoch 80/100\n",
            " - 0s - loss: 47.2624 - val_loss: 61.2078\n",
            "Epoch 81/100\n",
            " - 0s - loss: 56.1728 - val_loss: 79.1364\n",
            "Epoch 82/100\n",
            " - 0s - loss: 49.9266 - val_loss: 52.7997\n",
            "Epoch 83/100\n",
            " - 0s - loss: 42.4829 - val_loss: 56.3091\n",
            "Epoch 84/100\n",
            " - 0s - loss: 40.9873 - val_loss: 57.8821\n",
            "Epoch 85/100\n",
            " - 0s - loss: 44.5629 - val_loss: 57.9990\n",
            "Epoch 86/100\n",
            " - 0s - loss: 50.8860 - val_loss: 51.6459\n",
            "Epoch 87/100\n",
            " - 0s - loss: 39.2388 - val_loss: 50.3916\n",
            "Epoch 88/100\n",
            " - 0s - loss: 50.8529 - val_loss: 80.8439\n",
            "Epoch 89/100\n",
            " - 0s - loss: 46.5787 - val_loss: 50.7002\n",
            "Epoch 90/100\n",
            " - 0s - loss: 44.1762 - val_loss: 51.9182\n",
            "Epoch 91/100\n",
            " - 0s - loss: 48.4693 - val_loss: 59.0742\n",
            "Epoch 92/100\n",
            " - 0s - loss: 39.3412 - val_loss: 49.4336\n",
            "Epoch 93/100\n",
            " - 0s - loss: 39.4254 - val_loss: 50.8272\n",
            "Epoch 94/100\n",
            " - 0s - loss: 38.7811 - val_loss: 49.1092\n",
            "Epoch 95/100\n",
            " - 0s - loss: 40.5682 - val_loss: 49.0383\n",
            "Epoch 96/100\n",
            " - 0s - loss: 56.9587 - val_loss: 72.7388\n",
            "Epoch 97/100\n",
            " - 0s - loss: 47.3609 - val_loss: 61.6444\n",
            "Epoch 98/100\n",
            " - 0s - loss: 41.4054 - val_loss: 59.9124\n",
            "Epoch 99/100\n",
            " - 0s - loss: 43.0070 - val_loss: 50.7375\n",
            "Epoch 100/100\n",
            " - 0s - loss: 40.4013 - val_loss: 50.2012\n"
          ],
          "name": "stdout"
        },
        {
          "output_type": "execute_result",
          "data": {
            "text/plain": [
              "<keras.callbacks.History at 0x7f19272e2e80>"
            ]
          },
          "metadata": {
            "tags": []
          },
          "execution_count": 86
        }
      ]
    },
    {
      "cell_type": "code",
      "metadata": {
        "id": "8qEB299UsxFU",
        "colab_type": "code",
        "colab": {}
      },
      "source": [
        "from sklearn.metrics import mean_squared_error\n",
        "\n",
        "def performance(y_hat, y):\n",
        "  print(\"MSE: {}\".format(mean_squared_error(y, y_hat)))"
      ],
      "execution_count": 0,
      "outputs": []
    },
    {
      "cell_type": "code",
      "metadata": {
        "id": "s6T-q6BksxCS",
        "colab_type": "code",
        "colab": {
          "base_uri": "https://localhost:8080/",
          "height": 35
        },
        "outputId": "56a9340e-726f-4944-adb8-c34b256aba63"
      },
      "source": [
        "y_hat = neural_network.predict(test_x)\n",
        "performance(y_hat, test_y)"
      ],
      "execution_count": 88,
      "outputs": [
        {
          "output_type": "stream",
          "text": [
            "MSE: 54.419043932804044\n"
          ],
          "name": "stdout"
        }
      ]
    },
    {
      "cell_type": "code",
      "metadata": {
        "id": "0hCtN6oksw7j",
        "colab_type": "code",
        "colab": {
          "base_uri": "https://localhost:8080/",
          "height": 35
        },
        "outputId": "a0fa3771-a111-464d-a911-d1b82d46797e"
      },
      "source": [
        "from sklearn.linear_model import LinearRegression\n",
        "\n",
        "model_lr = LinearRegression().fit(train_x, train_y)\n",
        "y_hat_l = model_lr.predict(test_x)\n",
        "\n",
        "performance(y_hat_l, test_y)"
      ],
      "execution_count": 89,
      "outputs": [
        {
          "output_type": "stream",
          "text": [
            "MSE: 110.31918845884442\n"
          ],
          "name": "stdout"
        }
      ]
    },
    {
      "cell_type": "code",
      "metadata": {
        "id": "mcwp6PM60tcT",
        "colab_type": "code",
        "colab": {}
      },
      "source": [
        ""
      ],
      "execution_count": 0,
      "outputs": []
    },
    {
      "cell_type": "code",
      "metadata": {
        "id": "Sx7smVlnsw42",
        "colab_type": "code",
        "colab": {}
      },
      "source": [
        ""
      ],
      "execution_count": 0,
      "outputs": []
    },
    {
      "cell_type": "code",
      "metadata": {
        "id": "rH0tl9Ilsw1q",
        "colab_type": "code",
        "colab": {}
      },
      "source": [
        ""
      ],
      "execution_count": 0,
      "outputs": []
    }
  ]
}