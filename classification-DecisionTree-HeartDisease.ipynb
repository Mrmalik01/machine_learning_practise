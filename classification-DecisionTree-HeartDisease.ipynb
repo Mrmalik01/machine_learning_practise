{
 "cells": [
  {
   "cell_type": "code",
   "execution_count": 1,
   "metadata": {},
   "outputs": [],
   "source": [
    "import pandas as pd\n",
    "import numpy as np\n",
    "import matplotlib.pyplot as plt"
   ]
  },
  {
   "cell_type": "markdown",
   "metadata": {},
   "source": [
    "### Introduction \n",
    "\n",
    "#### Data-information -  \n",
    "This dataset contains the patients's information regarding the heart disease.\n",
    "\n",
    "__cp__ - Chest pain type (1:typical angina, 2:atypical angine, 3: non-anginal pain and 4:asymptomatic)  \n",
    "__trestbps__ - resting blood pressure (mm Hg)  \n",
    "__chol__ - serun cholestrol (md/dl)  \n",
    "__fbs__ - fasting blood sugar: 1 if > 120mg/dl; 0 otherwise  \n",
    "__restecg__ - resting electrocardiographic result: 0=normal; 1=Having ST-T wave abnormality; 2=showing probable or definite ventricular hypertrophy   \n",
    "__thalach__ - maximum heart rate achieved  \n",
    "__exang__ - exercise induced angina  \n",
    "__oldpeak__ - ST depression included by exercise relative to rest  \n",
    "__slope__ - the slope of the peak exercise ST segment: 1= upsloping; 2=flat; 3:downslping  \n",
    "__ca__ - number of major vessels coloured by flourosopy  \n",
    "__thal__ - 3=normal; 6=fixed defect; 7=reversable defect  \n",
    "__num__ - predicted attribute; 0=Heart disease; 1=No heart disease  \n",
    "\n",
    "__Aim__ - To train and create a model which correctly classify unknown patients by looking at their test report whether they have heart dieases or not."
   ]
  },
  {
   "cell_type": "code",
   "execution_count": 5,
   "metadata": {},
   "outputs": [
    {
     "data": {
      "text/html": [
       "<div>\n",
       "<style scoped>\n",
       "    .dataframe tbody tr th:only-of-type {\n",
       "        vertical-align: middle;\n",
       "    }\n",
       "\n",
       "    .dataframe tbody tr th {\n",
       "        vertical-align: top;\n",
       "    }\n",
       "\n",
       "    .dataframe thead th {\n",
       "        text-align: right;\n",
       "    }\n",
       "</style>\n",
       "<table border=\"1\" class=\"dataframe\">\n",
       "  <thead>\n",
       "    <tr style=\"text-align: right;\">\n",
       "      <th></th>\n",
       "      <th>age</th>\n",
       "      <th>sex</th>\n",
       "      <th>cp</th>\n",
       "      <th>trestbps</th>\n",
       "      <th>chol</th>\n",
       "      <th>fbs</th>\n",
       "      <th>restecg</th>\n",
       "      <th>thalach</th>\n",
       "      <th>exang</th>\n",
       "      <th>oldpeak</th>\n",
       "      <th>slope</th>\n",
       "      <th>ca</th>\n",
       "      <th>thal</th>\n",
       "      <th>num</th>\n",
       "    </tr>\n",
       "  </thead>\n",
       "  <tbody>\n",
       "    <tr>\n",
       "      <th>0</th>\n",
       "      <td>63.0</td>\n",
       "      <td>1.0</td>\n",
       "      <td>1.0</td>\n",
       "      <td>145.0</td>\n",
       "      <td>233.0</td>\n",
       "      <td>1.0</td>\n",
       "      <td>2.0</td>\n",
       "      <td>150.0</td>\n",
       "      <td>0.0</td>\n",
       "      <td>2.3</td>\n",
       "      <td>3.0</td>\n",
       "      <td>0.0</td>\n",
       "      <td>6.0</td>\n",
       "      <td>0.0</td>\n",
       "    </tr>\n",
       "    <tr>\n",
       "      <th>1</th>\n",
       "      <td>67.0</td>\n",
       "      <td>1.0</td>\n",
       "      <td>4.0</td>\n",
       "      <td>160.0</td>\n",
       "      <td>286.0</td>\n",
       "      <td>0.0</td>\n",
       "      <td>2.0</td>\n",
       "      <td>108.0</td>\n",
       "      <td>1.0</td>\n",
       "      <td>1.5</td>\n",
       "      <td>2.0</td>\n",
       "      <td>3.0</td>\n",
       "      <td>3.0</td>\n",
       "      <td>1.0</td>\n",
       "    </tr>\n",
       "    <tr>\n",
       "      <th>2</th>\n",
       "      <td>67.0</td>\n",
       "      <td>1.0</td>\n",
       "      <td>4.0</td>\n",
       "      <td>120.0</td>\n",
       "      <td>229.0</td>\n",
       "      <td>0.0</td>\n",
       "      <td>2.0</td>\n",
       "      <td>129.0</td>\n",
       "      <td>1.0</td>\n",
       "      <td>2.6</td>\n",
       "      <td>2.0</td>\n",
       "      <td>2.0</td>\n",
       "      <td>7.0</td>\n",
       "      <td>1.0</td>\n",
       "    </tr>\n",
       "    <tr>\n",
       "      <th>3</th>\n",
       "      <td>37.0</td>\n",
       "      <td>1.0</td>\n",
       "      <td>3.0</td>\n",
       "      <td>130.0</td>\n",
       "      <td>250.0</td>\n",
       "      <td>0.0</td>\n",
       "      <td>0.0</td>\n",
       "      <td>187.0</td>\n",
       "      <td>0.0</td>\n",
       "      <td>3.5</td>\n",
       "      <td>3.0</td>\n",
       "      <td>0.0</td>\n",
       "      <td>3.0</td>\n",
       "      <td>0.0</td>\n",
       "    </tr>\n",
       "  </tbody>\n",
       "</table>\n",
       "</div>"
      ],
      "text/plain": [
       "    age  sex   cp  trestbps   chol  fbs  restecg  thalach  exang  oldpeak  \\\n",
       "0  63.0  1.0  1.0     145.0  233.0  1.0      2.0    150.0    0.0      2.3   \n",
       "1  67.0  1.0  4.0     160.0  286.0  0.0      2.0    108.0    1.0      1.5   \n",
       "2  67.0  1.0  4.0     120.0  229.0  0.0      2.0    129.0    1.0      2.6   \n",
       "3  37.0  1.0  3.0     130.0  250.0  0.0      0.0    187.0    0.0      3.5   \n",
       "\n",
       "   slope   ca  thal  num  \n",
       "0    3.0  0.0   6.0  0.0  \n",
       "1    2.0  3.0   3.0  1.0  \n",
       "2    2.0  2.0   7.0  1.0  \n",
       "3    3.0  0.0   3.0  0.0  "
      ]
     },
     "execution_count": 5,
     "metadata": {},
     "output_type": "execute_result"
    }
   ],
   "source": [
    "df = pd.read_csv(\"dataset/heart-disease.csv\")\n",
    "df.head(4)"
   ]
  },
  {
   "cell_type": "code",
   "execution_count": 7,
   "metadata": {},
   "outputs": [
    {
     "name": "stdout",
     "output_type": "stream",
     "text": [
      "<class 'pandas.core.frame.DataFrame'>\n",
      "RangeIndex: 303 entries, 0 to 302\n",
      "Data columns (total 14 columns):\n",
      " #   Column    Non-Null Count  Dtype  \n",
      "---  ------    --------------  -----  \n",
      " 0   age       303 non-null    float64\n",
      " 1   sex       303 non-null    float64\n",
      " 2   cp        303 non-null    float64\n",
      " 3   trestbps  303 non-null    float64\n",
      " 4   chol      303 non-null    float64\n",
      " 5   fbs       303 non-null    float64\n",
      " 6   restecg   303 non-null    float64\n",
      " 7   thalach   303 non-null    float64\n",
      " 8   exang     303 non-null    float64\n",
      " 9   oldpeak   303 non-null    float64\n",
      " 10  slope     303 non-null    float64\n",
      " 11  ca        303 non-null    float64\n",
      " 12  thal      303 non-null    float64\n",
      " 13  num       303 non-null    float64\n",
      "dtypes: float64(14)\n",
      "memory usage: 33.3 KB\n"
     ]
    }
   ],
   "source": [
    "df.info()"
   ]
  },
  {
   "cell_type": "markdown",
   "metadata": {},
   "source": [
    "### Data visualisation and analytics "
   ]
  },
  {
   "cell_type": "code",
   "execution_count": 6,
   "metadata": {},
   "outputs": [
    {
     "data": {
      "image/png": "[encoded data removed]",
      "text/plain": [
       "<Figure size 432x288 with 1 Axes>"
      ]
     },
     "metadata": {
      "needs_background": "light"
     },
     "output_type": "display_data"
    },
    {
     "name": "stdout",
     "output_type": "stream",
     "text": [
      "Average cholestrol of heart patients is - 251.47\n",
      "Average cholestrol of Non heart patients is - 242.64\n"
     ]
    }
   ],
   "source": [
    "df.hist(column='chol', bins=20)\n",
    "plt.show()\n",
    "\n",
    "mean = df[df['num']==1]['chol'].mean()\n",
    "print(\"Average cholestrol of heart patients is - %.2f\"%(mean))\n",
    "mean2 = df[df['num']==0]['chol'].mean()\n",
    "print(\"Average cholestrol of Non heart patients is - %.2f\"%(mean2))"
   ]
  },
  {
   "cell_type": "markdown",
   "metadata": {},
   "source": [
    "From the above data visualisation and result, we can see that Cholestrol is not a good identicator for heart disease, because both heart disease and non heart disease patients has similar average Cholestrol"
   ]
  },
  {
   "cell_type": "code",
   "execution_count": 59,
   "metadata": {},
   "outputs": [
    {
     "name": "stdout",
     "output_type": "stream",
     "text": [
      "Chest pain type - heart disease\n",
      "4.0    105\n",
      "3.0     18\n",
      "2.0      9\n",
      "1.0      7\n",
      "Name: cp, dtype: int64\n",
      "Chest pain type - non heart disease\n",
      "3.0    68\n",
      "2.0    41\n",
      "4.0    39\n",
      "1.0    16\n",
      "Name: cp, dtype: int64\n"
     ]
    }
   ],
   "source": [
    "print(\"Chest pain type - heart disease\")\n",
    "df_hd = df[df['num']==1]['cp']\n",
    "print(df_hd.value_counts())\n",
    "\n",
    "print(\"Chest pain type - non heart disease\")\n",
    "df_hdd = df[df['num']==0]['cp']\n",
    "print(df_hdd.value_counts())"
   ]
  },
  {
   "cell_type": "markdown",
   "metadata": {},
   "source": [
    "From the above data, we can see that heart disease patients has more asymptomic (4) type of chest pain and few non-anginal pain, whereas it is opposite for non heart disease patients. "
   ]
  },
  {
   "cell_type": "code",
   "execution_count": 52,
   "metadata": {},
   "outputs": [
    {
     "data": {
      "image/png": "[encoded data removed]",
      "text/plain": [
       "<Figure size 432x288 with 1 Axes>"
      ]
     },
     "metadata": {
      "needs_background": "light"
     },
     "output_type": "display_data"
    },
    {
     "name": "stdout",
     "output_type": "stream",
     "text": [
      "Average heart rate of a heart disease patients is 139.26\n",
      "Average heart rate of a non heart disease patients is 158.38\n"
     ]
    }
   ],
   "source": [
    "positive = df[df['num'] == 1]\n",
    "negative = df[df['num'] == 0]\n",
    "\n",
    "df.hist(column=\"thalach\", bins=20)\n",
    "plt.show()\n",
    "mean = positive['thalach'].mean()\n",
    "mean2 = negative['thalach'].mean()\n",
    "\n",
    "print(\"Average heart rate of a heart disease patients is %.2f\"%(mean))\n",
    "print(\"Average heart rate of a non heart disease patients is %.2f\"%(mean2))"
   ]
  },
  {
   "cell_type": "markdown",
   "metadata": {},
   "source": [
    "Therefore, non-heart disease patients has normally more heart rate than heart disease patients."
   ]
  },
  {
   "cell_type": "code",
   "execution_count": 53,
   "metadata": {
    "scrolled": true
   },
   "outputs": [
    {
     "data": {
      "image/png": "[encoded data removed]",
      "text/plain": [
       "<Figure size 432x288 with 1 Axes>"
      ]
     },
     "metadata": {
      "needs_background": "light"
     },
     "output_type": "display_data"
    },
    {
     "name": "stdout",
     "output_type": "stream",
     "text": [
      "Average resting blood pressure of a heart patient - 134.57\n",
      "Average resting blood pressure of non-heart disease patient - 129.25\n"
     ]
    }
   ],
   "source": [
    "df.hist(column=\"trestbps\", bins=20)\n",
    "plt.show()\n",
    "mean = positive['trestbps'].mean()\n",
    "mean2 = negative['trestbps'].mean()\n",
    "print(\"Average resting blood pressure of a heart patient - %.2f\"%(mean))\n",
    "print(\"Average resting blood pressure of non-heart disease patient - %.2f\"%(mean2))"
   ]
  },
  {
   "cell_type": "code",
   "execution_count": 72,
   "metadata": {},
   "outputs": [
    {
     "name": "stdout",
     "output_type": "stream",
     "text": [
      "Heart disease patient above 50\n",
      "\n",
      "4.0    84\n",
      "3.0    13\n",
      "2.0     8\n",
      "1.0     5\n",
      "Name: cp, dtype: int64\n",
      "\n",
      "Heart disease patient below 50\n",
      "\n",
      "3.0    73\n",
      "4.0    60\n",
      "2.0    42\n",
      "1.0    18\n",
      "Name: cp, dtype: int64\n",
      "\n",
      "-----------------------------------------\n",
      "\n",
      "Non-heart disease patients above 50\n",
      "\n",
      "3.0    42\n",
      "4.0    25\n",
      "2.0    19\n",
      "1.0    13\n",
      "Name: cp, dtype: int64\n",
      "\n",
      "Non-heart disease patients below 50\n",
      "\n",
      "4.0    119\n",
      "3.0     44\n",
      "2.0     31\n",
      "1.0     10\n",
      "Name: cp, dtype: int64\n"
     ]
    }
   ],
   "source": [
    "#Patient above the age of 50 analyses\n",
    "\n",
    "cond = (df['age']>50) & (df['num'] == 1)\n",
    "df_above = df[cond]\n",
    "df_below = df[~cond]\n",
    "\n",
    "cond = (df['age']>50) & (df['num'] == 0)\n",
    "df_n_above = df[cond]\n",
    "df_n_below = df[~cond]\n",
    "\n",
    "print(\"Heart disease patient above 50\")\n",
    "print(\"\")\n",
    "print(df_above['cp'].value_counts())\n",
    "print(\"\")\n",
    "print(\"Heart disease patient below 50\")\n",
    "print(\"\")\n",
    "print(df_below['cp'].value_counts())\n",
    "print(\"\")\n",
    "print(\"-----------------------------------------\")\n",
    "print(\"\")\n",
    "print(\"Non-heart disease patients above 50\")\n",
    "print(\"\")\n",
    "print(df_n_above['cp'].value_counts())\n",
    "print(\"\")\n",
    "print(\"Non-heart disease patients below 50\")\n",
    "print(\"\")\n",
    "print(df_n_below['cp'].value_counts())"
   ]
  },
  {
   "cell_type": "markdown",
   "metadata": {},
   "source": [
    "Another fair indicator of diabetes."
   ]
  },
  {
   "cell_type": "markdown",
   "metadata": {},
   "source": [
    "### Preparation for model training and creation"
   ]
  },
  {
   "cell_type": "code",
   "execution_count": 73,
   "metadata": {},
   "outputs": [],
   "source": [
    "cols = df.columns\n",
    "cols = cols[0:len(cols)-1]\n",
    "X = df[cols].values # Features #  2D Array for machine learning algorithms\n",
    "y = df['num'].values # Class "
   ]
  },
  {
   "cell_type": "markdown",
   "metadata": {},
   "source": [
    "#### Dividing data into train and test"
   ]
  },
  {
   "cell_type": "code",
   "execution_count": 74,
   "metadata": {},
   "outputs": [
    {
     "name": "stdout",
     "output_type": "stream",
     "text": [
      "Learning data - 242 rows | Testing data - 61 rows\n"
     ]
    }
   ],
   "source": [
    "from sklearn.model_selection import train_test_split\n",
    "\n",
    "xlearn, xtest, ylearn, ytest = train_test_split(X, y, test_size=0.2, random_state=4)\n",
    "print(\"Learning data - {} rows | Testing data - {} rows\".format(xlearn.shape[0], xtest.shape[0]))"
   ]
  },
  {
   "cell_type": "markdown",
   "metadata": {},
   "source": [
    "#### Fitting the model\n",
    "\n",
    "In this case, we will be using K-Nearest Neighbour algorithm to train our classifer. In this algorithm, the unknown data point is classified by comparing it with K-Nearest neighbours and selecting the most occuring class."
   ]
  },
  {
   "cell_type": "code",
   "execution_count": 75,
   "metadata": {
    "scrolled": true
   },
   "outputs": [
    {
     "name": "stdout",
     "output_type": "stream",
     "text": [
      "[1. 0. 0. 0. 1. 1. 0. 0. 0. 1.]\n",
      "[1. 0. 0. 0. 1. 1. 1. 0. 0. 1.]\n"
     ]
    }
   ],
   "source": [
    "from sklearn.tree import DecisionTreeClassifier\n",
    "\n",
    "model = DecisionTreeClassifier(max_depth=3).fit(xlearn, ylearn)\n",
    "y_hat = model.predict(xtest)\n",
    "\n",
    "print(y_hat[0:10])\n",
    "print(ytest[0:10])"
   ]
  },
  {
   "cell_type": "markdown",
   "metadata": {},
   "source": [
    "#### Accuracy of our classifier"
   ]
  },
  {
   "cell_type": "code",
   "execution_count": 76,
   "metadata": {},
   "outputs": [
    {
     "name": "stdout",
     "output_type": "stream",
     "text": [
      "Accuracy of the model on training data : 0.8471074380165289\n",
      "Accuracy of the model on testing data : 0.8688524590163934\n"
     ]
    }
   ],
   "source": [
    "import sklearn.metrics as metrics\n",
    "\n",
    "print(\"Accuracy of the model on training data : {}\".format(metrics.accuracy_score(ylearn, model.predict(xlearn))))\n",
    "print(\"Accuracy of the model on testing data : {}\".format(metrics.accuracy_score(ytest, y_hat)))"
   ]
  },
  {
   "cell_type": "code",
   "execution_count": 83,
   "metadata": {},
   "outputs": [
    {
     "name": "stdout",
     "output_type": "stream",
     "text": [
      "Accuracy of the model on training data : 0.55\n",
      "Accuracy of the model on test data : 0.87\n",
      "F1-score : 0.86\n",
      "Precision score : 0.89\n",
      "Recall score : 0.83\n"
     ]
    }
   ],
   "source": [
    "import sklearn.svm as svm\n",
    "from sklearn.metrics import f1_score, precision_score, recall_score, accuracy_score\n",
    "\n",
    "svm_model = svm.SVC()\n",
    "svm_model.fit(xlearn, ylearn)\n",
    "y_hat2 = model.predict(xtest)\n",
    "\n",
    "\n",
    "print(\"Accuracy of the model on training data : %.2f\"%(accuracy_score(ylearn, svm_model.predict(xlearn))))\n",
    "print(\"Accuracy of the model on test data : %.2f\"%(accuracy_score(ytest, y_hat2)))\n",
    "print(\"F1-score : %.2f\"%(f1_score(ytest, y_hat2)))\n",
    "print(\"Precision score : %.2f\"%(precision_score(ytest, y_hat2)))\n",
    "print(\"Recall score : %.2f\"%(recall_score(ytest, y_hat2)))"
   ]
  },
  {
   "cell_type": "markdown",
   "metadata": {},
   "source": [
    "From the above data, we can see that our model 86% accurately identify unknown objects"
   ]
  }
 ],
 "metadata": {
  "kernelspec": {
   "display_name": "Python 3",
   "language": "python",
   "name": "python3"
  },
  "language_info": {
   "codemirror_mode": {
    "name": "ipython",
    "version": 3
   },
   "file_extension": ".py",
   "mimetype": "text/x-python",
   "name": "python",
   "nbconvert_exporter": "python",
   "pygments_lexer": "ipython3",
   "version": "3.8.1"
  }
 },
 "nbformat": 4,
 "nbformat_minor": 2
}
